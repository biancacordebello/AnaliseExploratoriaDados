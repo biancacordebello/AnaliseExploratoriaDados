{
  "nbformat": 4,
  "nbformat_minor": 0,
  "metadata": {
    "colab": {
      "provenance": []
    },
    "kernelspec": {
      "name": "python3",
      "display_name": "Python 3"
    },
    "language_info": {
      "name": "python"
    }
  },
  "cells": [
    {
      "cell_type": "markdown",
      "source": [
        "# Conhecendo a base de dados\n",
        "\n",
        "A base de dados a ser explorada será a de imóveis para aluguel no RJ. O CSV está disponível no Teams na aba \"Arquivos\" do canal Geral, pasta \"Material de Aula\".\n",
        "\n",
        "Baixe o arquivo \"aluguel.csv\" do teams e faça upload aqui no Colab através da aba ao lado \"Arquivos\", ícone \"Fazer upload\".\n",
        "Lembre-se que os arquivos enviados e gerados pelo Colab são apagados quando a sessão em uso expira!"
      ],
      "metadata": {
        "id": "po_EJXY_WTZ6"
      }
    },
    {
      "cell_type": "markdown",
      "source": [
        "## Importando os dados\n"
      ],
      "metadata": {
        "id": "Yg7As1VwWnTw"
      }
    },
    {
      "cell_type": "code",
      "execution_count": null,
      "metadata": {
        "id": "A0m9bw60V9Uj"
      },
      "outputs": [],
      "source": [
        "import pandas as pd"
      ]
    },
    {
      "cell_type": "code",
      "source": [
        "arq = '/content/aluguel.csv'\n",
        "dados = pd.read_csv(arq, sep=';')\n",
        "dados"
      ],
      "metadata": {
        "id": "-8GmBuLzWlnS"
      },
      "execution_count": null,
      "outputs": []
    },
    {
      "cell_type": "code",
      "source": [
        "dados.head(10)"
      ],
      "metadata": {
        "id": "KaWMKbLmWlZj"
      },
      "execution_count": null,
      "outputs": []
    },
    {
      "cell_type": "code",
      "source": [
        "dados.tail()"
      ],
      "metadata": {
        "id": "cfLu1_AcW1Y1"
      },
      "execution_count": null,
      "outputs": []
    },
    {
      "cell_type": "code",
      "source": [
        "type(dados)"
      ],
      "metadata": {
        "id": "-6wHgCC6W3Dq"
      },
      "execution_count": null,
      "outputs": []
    },
    {
      "cell_type": "markdown",
      "source": [
        "## Características gerais da base de dados\n",
        "\n",
        "Nesta seção, estudaremos o formato e composição da tabela de dados (DataFrame).\n",
        "Mostraremos as dimensões da tabela (DataFrame) assim como a forma de selecionar os atributos do DF e verificar seus valores"
      ],
      "metadata": {
        "id": "rwL6VcT9W6W-"
      }
    },
    {
      "cell_type": "code",
      "source": [
        "dados.shape"
      ],
      "metadata": {
        "id": "V3RRXTIYW7KV"
      },
      "execution_count": null,
      "outputs": []
    },
    {
      "cell_type": "code",
      "source": [
        "dados.columns"
      ],
      "metadata": {
        "id": "55WX-hlnW6wm"
      },
      "execution_count": null,
      "outputs": []
    },
    {
      "cell_type": "code",
      "source": [
        "dados.info()"
      ],
      "metadata": {
        "id": "yacj_jwOXESW"
      },
      "execution_count": null,
      "outputs": []
    },
    {
      "cell_type": "code",
      "source": [
        "dados['Tipo']"
      ],
      "metadata": {
        "id": "Mh5HqrORXEMu"
      },
      "execution_count": null,
      "outputs": []
    },
    {
      "cell_type": "code",
      "source": [
        "dados['Tipo'].unique()"
      ],
      "metadata": {
        "id": "FvzuzkNDTLvE"
      },
      "execution_count": null,
      "outputs": []
    },
    {
      "cell_type": "code",
      "source": [
        "dados[['Quartos', 'Valor']]"
      ],
      "metadata": {
        "id": "ZmygOLCMXIyB"
      },
      "execution_count": null,
      "outputs": []
    },
    {
      "cell_type": "markdown",
      "source": [
        "# Análise exploratória de dados\n",
        "\n",
        "Nesta seção, responderemos algumas perguntas para que possamos adquirir conhecimentos sobre o dados que nossa base contém."
      ],
      "metadata": {
        "id": "cwVMOIMpWWfM"
      }
    },
    {
      "cell_type": "markdown",
      "source": [
        "## Qual o valor médio de aluguel por tipo de imóvel?"
      ],
      "metadata": {
        "id": "rnsDqFNDYV9-"
      }
    },
    {
      "cell_type": "code",
      "source": [
        "dados.head()"
      ],
      "metadata": {
        "id": "WRsE4GdoHZbg"
      },
      "execution_count": null,
      "outputs": []
    },
    {
      "cell_type": "code",
      "source": [
        "dados.describe()"
      ],
      "metadata": {
        "id": "1CDTCoKvSZiy"
      },
      "execution_count": null,
      "outputs": []
    },
    {
      "cell_type": "code",
      "source": [
        "dados.groupby('Tipo').mean(numeric_only=True)"
      ],
      "metadata": {
        "id": "_Ud_6L8WTqWY"
      },
      "execution_count": null,
      "outputs": []
    },
    {
      "cell_type": "code",
      "source": [
        "dados.groupby('Tipo')[['Valor']].mean().sort_values('Valor')"
      ],
      "metadata": {
        "id": "xwNUoofAYXFU"
      },
      "execution_count": null,
      "outputs": []
    },
    {
      "cell_type": "code",
      "source": [
        "df_preco_tipo = dados.groupby('Tipo')[['Valor']].mean().sort_values('Valor')\n",
        "\n",
        "df_preco_tipo.plot(kind='barh', figsize=(7, 5), color ='purple');"
      ],
      "metadata": {
        "id": "VfDZaxngxYUW"
      },
      "execution_count": null,
      "outputs": []
    },
    {
      "cell_type": "markdown",
      "source": [
        "## Removendo os imóveis comerciais\n",
        "\n",
        "Nossa imobiliária trabalha apenas com imóveis residenciais, então, removeremos os tipos não residenciais."
      ],
      "metadata": {
        "id": "c2rdhKbgZMpT"
      }
    },
    {
      "cell_type": "code",
      "source": [
        "dados.Tipo.unique()"
      ],
      "metadata": {
        "id": "JELgjo5dZIwe"
      },
      "execution_count": null,
      "outputs": []
    },
    {
      "cell_type": "code",
      "source": [
        "imoveis_residenciais = ['Quitinete', 'Casa', 'Apartamento','Casa de Condomínio','Flat', 'Casa de Vila','Terreno Padrão', 'Loft', 'Chácara', 'Loteamento/Condomínio',\n",
        "       'Sítio', 'Studio']\n"
      ],
      "metadata": {
        "id": "rDVKB-xtZUU9"
      },
      "execution_count": null,
      "outputs": []
    },
    {
      "cell_type": "code",
      "source": [
        "df_residenciais = dados.query('@imoveis_residenciais in Tipo')"
      ],
      "metadata": {
        "id": "GK9p8CEK4CtU"
      },
      "execution_count": null,
      "outputs": []
    },
    {
      "cell_type": "code",
      "source": [
        "df_residenciais.head()"
      ],
      "metadata": {
        "id": "DrCXtYhi4RcD"
      },
      "execution_count": null,
      "outputs": []
    },
    {
      "cell_type": "code",
      "source": [
        "df_residenciais.Tipo.unique()"
      ],
      "metadata": {
        "id": "PsTmoPPh5VGa"
      },
      "execution_count": null,
      "outputs": []
    },
    {
      "cell_type": "code",
      "source": [
        "df_preco_tipo = df_residenciais.groupby('Tipo')[['Valor']].mean().sort_values('Valor')\n",
        "\n",
        "df_preco_tipo.plot(kind='barh', figsize=(7, 5), color ='purple');"
      ],
      "metadata": {
        "id": "ueADvdISZUSe"
      },
      "execution_count": null,
      "outputs": []
    },
    {
      "cell_type": "markdown",
      "source": [
        "## Qual o percentual de cada tipo de imóvel na nossa base de dados?"
      ],
      "metadata": {
        "id": "-wW1PcKCXP_8"
      }
    },
    {
      "cell_type": "code",
      "source": [
        "df_residenciais.Tipo.unique()"
      ],
      "metadata": {
        "id": "LFn-BeGNXa2k"
      },
      "execution_count": null,
      "outputs": []
    },
    {
      "cell_type": "code",
      "source": [
        "df_residenciais.Tipo.value_counts(normalize=True)"
      ],
      "metadata": {
        "id": "qpjKJkjmXa0A"
      },
      "execution_count": null,
      "outputs": []
    },
    {
      "cell_type": "code",
      "source": [
        "df_proporcao = df_residenciais.Tipo.value_counts(normalize=True).to_frame().sort_values('Tipo')\n",
        "df_proporcao['proportion'] = df_proporcao['proportion']*100\n",
        "df_proporcao"
      ],
      "metadata": {
        "id": "XMWQmHhbXaxG"
      },
      "execution_count": null,
      "outputs": []
    },
    {
      "cell_type": "code",
      "source": [
        "df_percentual_tipo = df_residenciais.Tipo.value_counts(normalize=True).to_frame().sort_values('Tipo')\n",
        "\n",
        "df_percentual_tipo.plot(kind='bar', figsize=(7, 5), color ='green',\n",
        "                        xlabel = 'Tipos', ylabel = 'Percentual');"
      ],
      "metadata": {
        "id": "PXr5xrBvXasw"
      },
      "execution_count": null,
      "outputs": []
    },
    {
      "cell_type": "markdown",
      "source": [
        "### **Selecionando apenas os imóveis do tipo apartamento**\n",
        "\n",
        "Como 84% dos imóveis são apartamentos, faz sentindo restringir nosso escopo para apenas apartamentos"
      ],
      "metadata": {
        "id": "2TJSa7Nr59qr"
      }
    },
    {
      "cell_type": "code",
      "source": [
        "df_residenciais.query('Tipo == \"Apartamento\"')"
      ],
      "metadata": {
        "id": "HZ7AhVhl6kXH"
      },
      "execution_count": null,
      "outputs": []
    },
    {
      "cell_type": "code",
      "source": [
        "df_apto = df_residenciais.query('Tipo == \"Apartamento\"')\n",
        "df_apto.head()"
      ],
      "metadata": {
        "id": "0CtEDNjF6xKH"
      },
      "execution_count": null,
      "outputs": []
    },
    {
      "cell_type": "markdown",
      "source": [
        "# Pré-processamento"
      ],
      "metadata": {
        "id": "Qicz5ljuWYIG"
      }
    },
    {
      "cell_type": "markdown",
      "source": [
        "## Lidando com amostras duplicadas"
      ],
      "metadata": {
        "id": "uLArdKfMZJx5"
      }
    },
    {
      "cell_type": "code",
      "source": [
        "df_apto.duplicated()"
      ],
      "metadata": {
        "id": "vGI-uqShZJcq"
      },
      "execution_count": null,
      "outputs": []
    },
    {
      "cell_type": "code",
      "source": [
        "df_apto[df_apto.duplicated()]"
      ],
      "metadata": {
        "id": "dFEey_KsZ4oM"
      },
      "execution_count": null,
      "outputs": []
    },
    {
      "cell_type": "code",
      "source": [
        "df_apto = df_apto.drop_duplicates()\n",
        "df_apto.head()"
      ],
      "metadata": {
        "id": "GVD9lL0LaDz0"
      },
      "execution_count": null,
      "outputs": []
    },
    {
      "cell_type": "code",
      "source": [
        "df_apto.shape"
      ],
      "metadata": {
        "id": "oZIcWMZWaTU7"
      },
      "execution_count": null,
      "outputs": []
    },
    {
      "cell_type": "markdown",
      "source": [
        "## Lidando com dados nulos"
      ],
      "metadata": {
        "id": "sx6e737KaaWV"
      }
    },
    {
      "cell_type": "code",
      "source": [
        "df_apto.isnull()"
      ],
      "metadata": {
        "id": "XYFrVbLlWX0j"
      },
      "execution_count": null,
      "outputs": []
    },
    {
      "cell_type": "code",
      "source": [
        "df_apto.isnull().sum()"
      ],
      "metadata": {
        "id": "vtgPgHGnWYTZ"
      },
      "execution_count": null,
      "outputs": []
    },
    {
      "cell_type": "markdown",
      "source": [
        "Deletar apenas os apartamentos sem valor"
      ],
      "metadata": {
        "id": "A9uZmRL4axY5"
      }
    },
    {
      "cell_type": "code",
      "source": [
        "df_apto = df_apto.dropna(subset=['Valor'])\n",
        "df_apto.isnull().sum()"
      ],
      "metadata": {
        "id": "dBEHkHdValG4"
      },
      "execution_count": null,
      "outputs": []
    },
    {
      "cell_type": "code",
      "source": [
        "df_apto.fillna(0)"
      ],
      "metadata": {
        "id": "Mw2m96vCaZvE"
      },
      "execution_count": null,
      "outputs": []
    },
    {
      "cell_type": "markdown",
      "source": [
        "Os demais apartamentos, vou considerar que os valores de IPTU e Condomninio já estão inclusos no Valor, por isso, quero preencher estes valores com zero (0)"
      ],
      "metadata": {
        "id": "ASQ-Vn45bQFH"
      }
    },
    {
      "cell_type": "code",
      "source": [
        "df_apto = df_apto.fillna(0)"
      ],
      "metadata": {
        "id": "KRF0dAyBaZq7"
      },
      "execution_count": null,
      "outputs": []
    },
    {
      "cell_type": "code",
      "source": [
        "df_apto.isnull().sum()"
      ],
      "metadata": {
        "id": "Plaat1OsbJ-5"
      },
      "execution_count": null,
      "outputs": []
    },
    {
      "cell_type": "markdown",
      "source": [
        "## Removendo registros\n",
        "\n",
        "Por algum motivo, a imobiliária não trabalha com Apartamentos no Centro sem vagas garagem. Precisamos, portanto, remover estas amostras."
      ],
      "metadata": {
        "id": "B_OC_jS8cL0n"
      }
    },
    {
      "cell_type": "code",
      "source": [
        "df_apto.query('Vagas == 0 & Bairro == \"Centro\"')"
      ],
      "metadata": {
        "id": "H955G70zcKwX"
      },
      "execution_count": null,
      "outputs": []
    },
    {
      "cell_type": "code",
      "source": [
        "df_apto.query('Vagas == 0  & Bairro == \"Centro\"').index"
      ],
      "metadata": {
        "id": "7M_YtGLgxd0k"
      },
      "execution_count": null,
      "outputs": []
    },
    {
      "cell_type": "code",
      "source": [
        "indices_a_remover = df_apto.query('Vagas == 0 & Bairro == \"Centro\"').index"
      ],
      "metadata": {
        "id": "R28sDOakx0dX"
      },
      "execution_count": null,
      "outputs": []
    },
    {
      "cell_type": "code",
      "source": [
        "df_apto.drop(indices_a_remover, axis=0, inplace=True)"
      ],
      "metadata": {
        "id": "p4UIflVTcKtN"
      },
      "execution_count": null,
      "outputs": []
    },
    {
      "cell_type": "code",
      "source": [
        "df_apto.query('Vagas == 0  & Bairro == \"Centro\"')"
      ],
      "metadata": {
        "id": "-hydAdP2e4m4"
      },
      "execution_count": null,
      "outputs": []
    },
    {
      "cell_type": "code",
      "source": [
        "df_apto.head()"
      ],
      "metadata": {
        "id": "jLJ8MM7byGHq"
      },
      "execution_count": null,
      "outputs": []
    },
    {
      "cell_type": "code",
      "source": [
        "df_apto.Tipo.unique()"
      ],
      "metadata": {
        "id": "Roc3lFaEe6lZ"
      },
      "execution_count": null,
      "outputs": []
    },
    {
      "cell_type": "code",
      "source": [
        "df_apto.drop('Tipo', axis=1, inplace=True)"
      ],
      "metadata": {
        "id": "ksSN-IzN8Z7i"
      },
      "execution_count": null,
      "outputs": []
    },
    {
      "cell_type": "code",
      "source": [
        "df_apto.head()"
      ],
      "metadata": {
        "id": "XohBafvw8dsX"
      },
      "execution_count": null,
      "outputs": []
    },
    {
      "cell_type": "markdown",
      "source": [
        "## Filtros"
      ],
      "metadata": {
        "id": "khQPzyksg5Hx"
      }
    },
    {
      "cell_type": "markdown",
      "source": [
        "### **1. Apartamentos que possuem `1 quarto` e `aluguel menor que 1200`**\n",
        "\n"
      ],
      "metadata": {
        "id": "ruP5z4iUy0HA"
      }
    },
    {
      "cell_type": "code",
      "source": [
        "df_apto['Quartos'] == 1"
      ],
      "metadata": {
        "id": "qTimHdpn-UjL"
      },
      "execution_count": null,
      "outputs": []
    },
    {
      "cell_type": "code",
      "source": [
        "selecao1 = df_apto['Quartos'] == 1\n",
        "df_apto[selecao1]"
      ],
      "metadata": {
        "id": "_HAkpI9EeMPv"
      },
      "execution_count": null,
      "outputs": []
    },
    {
      "cell_type": "code",
      "source": [
        "selecao2 = df_apto['Valor'] < 1200\n",
        "df_apto[selecao2]"
      ],
      "metadata": {
        "id": "i_uf0kP-0Jcv"
      },
      "execution_count": null,
      "outputs": []
    },
    {
      "cell_type": "code",
      "source": [
        "selecao_final = (selecao1) & (selecao2)\n",
        "df_apto[selecao_final]"
      ],
      "metadata": {
        "id": "9iZXXwkE0JaL"
      },
      "execution_count": null,
      "outputs": []
    },
    {
      "cell_type": "code",
      "source": [
        "df_1 = df_apto[selecao_final]"
      ],
      "metadata": {
        "id": "hTtHjRF271SQ"
      },
      "execution_count": null,
      "outputs": []
    },
    {
      "cell_type": "markdown",
      "source": [
        "### **2. `Apartamentos` que possuem pelo menos `2 quartos`, `aluguel menor que 3000` e `area maior que 70`**"
      ],
      "metadata": {
        "id": "cFeUf691y0oy"
      }
    },
    {
      "cell_type": "code",
      "source": [
        "selecao = (df_apto['Quartos'] >= 2) & (df_apto['Valor'] < 3000) & (df_apto['Area'] > 70)\n",
        "df_apto[selecao]"
      ],
      "metadata": {
        "id": "nt0alj_leMeZ"
      },
      "execution_count": null,
      "outputs": []
    },
    {
      "cell_type": "code",
      "source": [
        "df_2 = df_apto[selecao]"
      ],
      "metadata": {
        "id": "5b30hBhj76LA"
      },
      "execution_count": null,
      "outputs": []
    },
    {
      "cell_type": "markdown",
      "source": [
        "## Salvando os dados das nossas duas consultas"
      ],
      "metadata": {
        "id": "X44FZQVd8Bdy"
      }
    },
    {
      "cell_type": "code",
      "source": [
        "df_1.to_csv('apartamentos-1.csv')"
      ],
      "metadata": {
        "id": "KrvHtvZm9BXQ"
      },
      "execution_count": null,
      "outputs": []
    },
    {
      "cell_type": "code",
      "source": [
        "pd.read_csv('apartamentos-1.csv')"
      ],
      "metadata": {
        "id": "3MkTUyhj-G4L"
      },
      "execution_count": null,
      "outputs": []
    },
    {
      "cell_type": "code",
      "source": [
        "df_2.to_csv('apartamentos-2.csv', index=False)"
      ],
      "metadata": {
        "id": "PuNhu13f96o0"
      },
      "execution_count": null,
      "outputs": []
    },
    {
      "cell_type": "code",
      "source": [
        "pd.read_csv('apartamentos-2.csv')"
      ],
      "metadata": {
        "id": "JlTd_yEP-F6B"
      },
      "execution_count": null,
      "outputs": []
    },
    {
      "cell_type": "code",
      "source": [
        "df_apto.to_csv('apartamentos.csv', index=False, sep=';')"
      ],
      "metadata": {
        "id": "qtrF3cN3-PHn"
      },
      "execution_count": null,
      "outputs": []
    },
    {
      "cell_type": "code",
      "source": [
        "pd.read_csv('apartamentos.csv')"
      ],
      "metadata": {
        "id": "ldKDP26a-Rk1"
      },
      "execution_count": null,
      "outputs": []
    },
    {
      "cell_type": "code",
      "source": [
        "pd.read_csv('apartamentos.csv', sep=';')"
      ],
      "metadata": {
        "id": "Y5e2jaBR-UmV"
      },
      "execution_count": null,
      "outputs": []
    },
    {
      "cell_type": "markdown",
      "source": [
        "# Manipulando os dados"
      ],
      "metadata": {
        "id": "e6eJTZfKWXEs"
      }
    },
    {
      "cell_type": "markdown",
      "source": [
        "## Criando colunas numéricas"
      ],
      "metadata": {
        "id": "3i_NaXfjadEI"
      }
    },
    {
      "cell_type": "code",
      "source": [
        "df_apto.head()"
      ],
      "metadata": {
        "id": "49JAtiMED73t"
      },
      "execution_count": null,
      "outputs": []
    },
    {
      "cell_type": "code",
      "source": [
        "df_apto['valor_por_ano'] = (df_apto['Valor'] + df_apto['Condominio']) * 12 + df_apto['IPTU']\n",
        "df_apto.head()"
      ],
      "metadata": {
        "id": "66yfztw3ad2P"
      },
      "execution_count": null,
      "outputs": []
    },
    {
      "cell_type": "code",
      "source": [
        "df_apto['valor_medio_por_mes'] = df_apto['valor_por_ano'] / 12\n",
        "df_apto.head()"
      ],
      "metadata": {
        "id": "rBejF2_badiG"
      },
      "execution_count": null,
      "outputs": []
    },
    {
      "cell_type": "markdown",
      "source": [
        "## Criando colunas categóricas"
      ],
      "metadata": {
        "id": "TZtb57m2bjzR"
      }
    },
    {
      "cell_type": "code",
      "source": [
        "df_apto['Possui_suite'] = df_apto['Suites'].apply(lambda x: \"Sim\" if x > 0 else \"Não\")\n",
        "df_apto.head()"
      ],
      "metadata": {
        "id": "Z-27rFc7NSwq"
      },
      "execution_count": null,
      "outputs": []
    },
    {
      "cell_type": "code",
      "source": [
        "dados.to_csv('apartamentos.csv', index=False, sep=\";\")"
      ],
      "metadata": {
        "id": "QSLfaWHlbkgD"
      },
      "execution_count": null,
      "outputs": []
    }
  ]
}